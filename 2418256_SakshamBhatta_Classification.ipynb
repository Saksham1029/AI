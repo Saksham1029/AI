{
  "nbformat": 4,
  "nbformat_minor": 0,
  "metadata": {
    "colab": {
      "provenance": []
    },
    "kernelspec": {
      "name": "python3",
      "display_name": "Python 3"
    },
    "language_info": {
      "name": "python"
    },
    "widgets": {
      "application/vnd.jupyter.widget-state+json": {
        "de1ed62b312540078ef777f78dd456fb": {
          "model_module": "@jupyter-widgets/controls",
          "model_name": "HBoxModel",
          "model_module_version": "1.5.0",
          "state": {
            "_dom_classes": [],
            "_model_module": "@jupyter-widgets/controls",
            "_model_module_version": "1.5.0",
            "_model_name": "HBoxModel",
            "_view_count": null,
            "_view_module": "@jupyter-widgets/controls",
            "_view_module_version": "1.5.0",
            "_view_name": "HBoxView",
            "box_style": "",
            "children": [
              "IPY_MODEL_cdcbc6e4ec3d47f9b745810a2dead640",
              "IPY_MODEL_12f0265594d04e1bb6fc1b73ddd50f6d",
              "IPY_MODEL_d2a48ae0404b4919b2c6a5f17332f4da"
            ],
            "layout": "IPY_MODEL_f9f7ede6a6ae433e9f82a027e537c597"
          }
        },
        "cdcbc6e4ec3d47f9b745810a2dead640": {
          "model_module": "@jupyter-widgets/controls",
          "model_name": "HTMLModel",
          "model_module_version": "1.5.0",
          "state": {
            "_dom_classes": [],
            "_model_module": "@jupyter-widgets/controls",
            "_model_module_version": "1.5.0",
            "_model_name": "HTMLModel",
            "_view_count": null,
            "_view_module": "@jupyter-widgets/controls",
            "_view_module_version": "1.5.0",
            "_view_name": "HTMLView",
            "description": "",
            "description_tooltip": null,
            "layout": "IPY_MODEL_6d8b148355c8467eb0430aaa9acdc3e3",
            "placeholder": "​",
            "style": "IPY_MODEL_e2a27f0ea28d4bd18f6e1d6797379771",
            "value": "100%"
          }
        },
        "12f0265594d04e1bb6fc1b73ddd50f6d": {
          "model_module": "@jupyter-widgets/controls",
          "model_name": "FloatProgressModel",
          "model_module_version": "1.5.0",
          "state": {
            "_dom_classes": [],
            "_model_module": "@jupyter-widgets/controls",
            "_model_module_version": "1.5.0",
            "_model_name": "FloatProgressModel",
            "_view_count": null,
            "_view_module": "@jupyter-widgets/controls",
            "_view_module_version": "1.5.0",
            "_view_name": "ProgressView",
            "bar_style": "success",
            "description": "",
            "description_tooltip": null,
            "layout": "IPY_MODEL_2d8e75f945c546ceaa8c83a3fdfbe7f6",
            "max": 1000,
            "min": 0,
            "orientation": "horizontal",
            "style": "IPY_MODEL_9e1e63b495ce411a8a1456026b8fb84e",
            "value": 1000
          }
        },
        "d2a48ae0404b4919b2c6a5f17332f4da": {
          "model_module": "@jupyter-widgets/controls",
          "model_name": "HTMLModel",
          "model_module_version": "1.5.0",
          "state": {
            "_dom_classes": [],
            "_model_module": "@jupyter-widgets/controls",
            "_model_module_version": "1.5.0",
            "_model_name": "HTMLModel",
            "_view_count": null,
            "_view_module": "@jupyter-widgets/controls",
            "_view_module_version": "1.5.0",
            "_view_name": "HTMLView",
            "description": "",
            "description_tooltip": null,
            "layout": "IPY_MODEL_b4e003b7a141480dac8a9b4910d18fe7",
            "placeholder": "​",
            "style": "IPY_MODEL_951782b059a54a77a94539f1328dc534",
            "value": " 1000/1000 [00:02&lt;00:00, 504.94it/s]"
          }
        },
        "f9f7ede6a6ae433e9f82a027e537c597": {
          "model_module": "@jupyter-widgets/base",
          "model_name": "LayoutModel",
          "model_module_version": "1.2.0",
          "state": {
            "_model_module": "@jupyter-widgets/base",
            "_model_module_version": "1.2.0",
            "_model_name": "LayoutModel",
            "_view_count": null,
            "_view_module": "@jupyter-widgets/base",
            "_view_module_version": "1.2.0",
            "_view_name": "LayoutView",
            "align_content": null,
            "align_items": null,
            "align_self": null,
            "border": null,
            "bottom": null,
            "display": null,
            "flex": null,
            "flex_flow": null,
            "grid_area": null,
            "grid_auto_columns": null,
            "grid_auto_flow": null,
            "grid_auto_rows": null,
            "grid_column": null,
            "grid_gap": null,
            "grid_row": null,
            "grid_template_areas": null,
            "grid_template_columns": null,
            "grid_template_rows": null,
            "height": null,
            "justify_content": null,
            "justify_items": null,
            "left": null,
            "margin": null,
            "max_height": null,
            "max_width": null,
            "min_height": null,
            "min_width": null,
            "object_fit": null,
            "object_position": null,
            "order": null,
            "overflow": null,
            "overflow_x": null,
            "overflow_y": null,
            "padding": null,
            "right": null,
            "top": null,
            "visibility": null,
            "width": null
          }
        },
        "6d8b148355c8467eb0430aaa9acdc3e3": {
          "model_module": "@jupyter-widgets/base",
          "model_name": "LayoutModel",
          "model_module_version": "1.2.0",
          "state": {
            "_model_module": "@jupyter-widgets/base",
            "_model_module_version": "1.2.0",
            "_model_name": "LayoutModel",
            "_view_count": null,
            "_view_module": "@jupyter-widgets/base",
            "_view_module_version": "1.2.0",
            "_view_name": "LayoutView",
            "align_content": null,
            "align_items": null,
            "align_self": null,
            "border": null,
            "bottom": null,
            "display": null,
            "flex": null,
            "flex_flow": null,
            "grid_area": null,
            "grid_auto_columns": null,
            "grid_auto_flow": null,
            "grid_auto_rows": null,
            "grid_column": null,
            "grid_gap": null,
            "grid_row": null,
            "grid_template_areas": null,
            "grid_template_columns": null,
            "grid_template_rows": null,
            "height": null,
            "justify_content": null,
            "justify_items": null,
            "left": null,
            "margin": null,
            "max_height": null,
            "max_width": null,
            "min_height": null,
            "min_width": null,
            "object_fit": null,
            "object_position": null,
            "order": null,
            "overflow": null,
            "overflow_x": null,
            "overflow_y": null,
            "padding": null,
            "right": null,
            "top": null,
            "visibility": null,
            "width": null
          }
        },
        "e2a27f0ea28d4bd18f6e1d6797379771": {
          "model_module": "@jupyter-widgets/controls",
          "model_name": "DescriptionStyleModel",
          "model_module_version": "1.5.0",
          "state": {
            "_model_module": "@jupyter-widgets/controls",
            "_model_module_version": "1.5.0",
            "_model_name": "DescriptionStyleModel",
            "_view_count": null,
            "_view_module": "@jupyter-widgets/base",
            "_view_module_version": "1.2.0",
            "_view_name": "StyleView",
            "description_width": ""
          }
        },
        "2d8e75f945c546ceaa8c83a3fdfbe7f6": {
          "model_module": "@jupyter-widgets/base",
          "model_name": "LayoutModel",
          "model_module_version": "1.2.0",
          "state": {
            "_model_module": "@jupyter-widgets/base",
            "_model_module_version": "1.2.0",
            "_model_name": "LayoutModel",
            "_view_count": null,
            "_view_module": "@jupyter-widgets/base",
            "_view_module_version": "1.2.0",
            "_view_name": "LayoutView",
            "align_content": null,
            "align_items": null,
            "align_self": null,
            "border": null,
            "bottom": null,
            "display": null,
            "flex": null,
            "flex_flow": null,
            "grid_area": null,
            "grid_auto_columns": null,
            "grid_auto_flow": null,
            "grid_auto_rows": null,
            "grid_column": null,
            "grid_gap": null,
            "grid_row": null,
            "grid_template_areas": null,
            "grid_template_columns": null,
            "grid_template_rows": null,
            "height": null,
            "justify_content": null,
            "justify_items": null,
            "left": null,
            "margin": null,
            "max_height": null,
            "max_width": null,
            "min_height": null,
            "min_width": null,
            "object_fit": null,
            "object_position": null,
            "order": null,
            "overflow": null,
            "overflow_x": null,
            "overflow_y": null,
            "padding": null,
            "right": null,
            "top": null,
            "visibility": null,
            "width": null
          }
        },
        "9e1e63b495ce411a8a1456026b8fb84e": {
          "model_module": "@jupyter-widgets/controls",
          "model_name": "ProgressStyleModel",
          "model_module_version": "1.5.0",
          "state": {
            "_model_module": "@jupyter-widgets/controls",
            "_model_module_version": "1.5.0",
            "_model_name": "ProgressStyleModel",
            "_view_count": null,
            "_view_module": "@jupyter-widgets/base",
            "_view_module_version": "1.2.0",
            "_view_name": "StyleView",
            "bar_color": null,
            "description_width": ""
          }
        },
        "b4e003b7a141480dac8a9b4910d18fe7": {
          "model_module": "@jupyter-widgets/base",
          "model_name": "LayoutModel",
          "model_module_version": "1.2.0",
          "state": {
            "_model_module": "@jupyter-widgets/base",
            "_model_module_version": "1.2.0",
            "_model_name": "LayoutModel",
            "_view_count": null,
            "_view_module": "@jupyter-widgets/base",
            "_view_module_version": "1.2.0",
            "_view_name": "LayoutView",
            "align_content": null,
            "align_items": null,
            "align_self": null,
            "border": null,
            "bottom": null,
            "display": null,
            "flex": null,
            "flex_flow": null,
            "grid_area": null,
            "grid_auto_columns": null,
            "grid_auto_flow": null,
            "grid_auto_rows": null,
            "grid_column": null,
            "grid_gap": null,
            "grid_row": null,
            "grid_template_areas": null,
            "grid_template_columns": null,
            "grid_template_rows": null,
            "height": null,
            "justify_content": null,
            "justify_items": null,
            "left": null,
            "margin": null,
            "max_height": null,
            "max_width": null,
            "min_height": null,
            "min_width": null,
            "object_fit": null,
            "object_position": null,
            "order": null,
            "overflow": null,
            "overflow_x": null,
            "overflow_y": null,
            "padding": null,
            "right": null,
            "top": null,
            "visibility": null,
            "width": null
          }
        },
        "951782b059a54a77a94539f1328dc534": {
          "model_module": "@jupyter-widgets/controls",
          "model_name": "DescriptionStyleModel",
          "model_module_version": "1.5.0",
          "state": {
            "_model_module": "@jupyter-widgets/controls",
            "_model_module_version": "1.5.0",
            "_model_name": "DescriptionStyleModel",
            "_view_count": null,
            "_view_module": "@jupyter-widgets/base",
            "_view_module_version": "1.2.0",
            "_view_name": "StyleView",
            "description_width": ""
          }
        }
      }
    }
  },
  "cells": [
    {
      "cell_type": "code",
      "execution_count": 489,
      "metadata": {
        "id": "xHqERX3ee3uO"
      },
      "outputs": [],
      "source": [
        "import pandas as pd\n",
        "import numpy as np\n",
        "import matplotlib.pyplot as plt\n",
        "import seaborn as sns"
      ]
    },
    {
      "cell_type": "markdown",
      "source": [
        "##Data Analysis and Data Exploring\n"
      ],
      "metadata": {
        "id": "Ujz-ZRprGwtu"
      }
    },
    {
      "cell_type": "code",
      "source": [
        "df= pd.read_csv('/content/drive/MyDrive/FinalAssessment/Telecust1.csv')\n",
        "\n",
        "# Displaying the first few rows of the dataset\n",
        "print(\"Dataset Preview:\")\n",
        "print(df.head())\n",
        "\n",
        "# Dataset description\n",
        "print(\"\\nDataset Information:\")\n",
        "print(df.info())\n",
        "\n",
        "# Summary statistics\n",
        "print(\"\\nSummary Statistics:\")\n",
        "print(df.describe())\n",
        "\n",
        "# List of attributes (columns)\n",
        "columns = df.columns.tolist()\n",
        "print(\"\\nList of Attributes (Columns):\")\n",
        "print(columns)"
      ],
      "metadata": {
        "colab": {
          "base_uri": "https://localhost:8080/"
        },
        "id": "D6u-4EKLGt9J",
        "outputId": "cf874836-ff2b-472c-ecc2-ab8afeff0fc3"
      },
      "execution_count": 490,
      "outputs": [
        {
          "output_type": "stream",
          "name": "stdout",
          "text": [
            "Dataset Preview:\n",
            "   region  tenure  age  income  marital  address  ed  employ  retire  gender  \\\n",
            "0       2      13   44      64        1        9   4       5       0       0   \n",
            "1       3      11   33     136        1        7   5       5       0       0   \n",
            "2       3      68   52     116        1       24   1      29       0       1   \n",
            "3       2      33   33      33        0       12   2       0       0       1   \n",
            "4       2      23   30      30        1        9   1       2       0       0   \n",
            "\n",
            "   reside custcat  \n",
            "0       2       A  \n",
            "1       6       D  \n",
            "2       2       C  \n",
            "3       1       A  \n",
            "4       4       C  \n",
            "\n",
            "Dataset Information:\n",
            "<class 'pandas.core.frame.DataFrame'>\n",
            "RangeIndex: 1000 entries, 0 to 999\n",
            "Data columns (total 12 columns):\n",
            " #   Column   Non-Null Count  Dtype \n",
            "---  ------   --------------  ----- \n",
            " 0   region   1000 non-null   int64 \n",
            " 1   tenure   1000 non-null   int64 \n",
            " 2   age      1000 non-null   int64 \n",
            " 3   income   1000 non-null   int64 \n",
            " 4   marital  1000 non-null   int64 \n",
            " 5   address  1000 non-null   int64 \n",
            " 6   ed       1000 non-null   int64 \n",
            " 7   employ   1000 non-null   int64 \n",
            " 8   retire   1000 non-null   int64 \n",
            " 9   gender   1000 non-null   int64 \n",
            " 10  reside   1000 non-null   int64 \n",
            " 11  custcat  1000 non-null   object\n",
            "dtypes: int64(11), object(1)\n",
            "memory usage: 93.9+ KB\n",
            "None\n",
            "\n",
            "Summary Statistics:\n",
            "          region       tenure          age       income      marital  \\\n",
            "count  1000.0000  1000.000000  1000.000000  1000.000000  1000.000000   \n",
            "mean      2.0220    35.526000    41.684000    77.535000     0.495000   \n",
            "std       0.8162    21.359812    12.558816   107.044165     0.500225   \n",
            "min       1.0000     1.000000    18.000000     9.000000     0.000000   \n",
            "25%       1.0000    17.000000    32.000000    29.000000     0.000000   \n",
            "50%       2.0000    34.000000    40.000000    47.000000     0.000000   \n",
            "75%       3.0000    54.000000    51.000000    83.000000     1.000000   \n",
            "max       3.0000    72.000000    77.000000  1668.000000     1.000000   \n",
            "\n",
            "           address           ed       employ       retire       gender  \\\n",
            "count  1000.000000  1000.000000  1000.000000  1000.000000  1000.000000   \n",
            "mean     11.551000     2.671000    10.987000     0.047000     0.517000   \n",
            "std      10.086681     1.222397    10.082087     0.211745     0.499961   \n",
            "min       0.000000     1.000000     0.000000     0.000000     0.000000   \n",
            "25%       3.000000     2.000000     3.000000     0.000000     0.000000   \n",
            "50%       9.000000     3.000000     8.000000     0.000000     1.000000   \n",
            "75%      18.000000     4.000000    17.000000     0.000000     1.000000   \n",
            "max      55.000000     5.000000    47.000000     1.000000     1.000000   \n",
            "\n",
            "            reside  \n",
            "count  1000.000000  \n",
            "mean      2.331000  \n",
            "std       1.435793  \n",
            "min       1.000000  \n",
            "25%       1.000000  \n",
            "50%       2.000000  \n",
            "75%       3.000000  \n",
            "max       8.000000  \n",
            "\n",
            "List of Attributes (Columns):\n",
            "['region', 'tenure', 'age', 'income', 'marital', 'address', 'ed', 'employ', 'retire', 'gender', 'reside', 'custcat']\n"
          ]
        }
      ]
    },
    {
      "cell_type": "markdown",
      "source": [
        "##Data Cleaning"
      ],
      "metadata": {
        "id": "ebZL4FugIkQK"
      }
    },
    {
      "cell_type": "code",
      "source": [
        "df = df.drop(columns=[\"AppleID\"], errors='ignore')\n",
        "\n",
        "df[\"custcat\"] = df[\"custcat\"].map({\"A\": 1, \"B\": 0, \"C\": 2, \"D\":3 })\n",
        "\n",
        "print(df.dtypes)  # Should show 'Acidity' as float64\n",
        "print(df.head())\n",
        "\n",
        "# Checking for missing values\n",
        "missing_values = df.isnull().sum()\n",
        "print(\"\\nMissing Values in Each Column:\")\n",
        "print(missing_values)\n",
        "\n",
        "# Checking for duplicate rows|\n",
        "duplicate_vlaues = df.duplicated().sum()\n",
        "print(f\"\\nNumber of Duplicate Rows: {duplicate_vlaues}\")\n",
        "\n",
        "df= df.drop_duplicates()\n",
        "\n",
        "# Checking for duplicate rows\n",
        "duplicate_vlaues = df.duplicated().sum()\n",
        "print(f\"\\nNumber of Duplicate Rows: {duplicate_vlaues}\")\n"
      ],
      "metadata": {
        "colab": {
          "base_uri": "https://localhost:8080/"
        },
        "id": "o-_1N7uwIDPK",
        "outputId": "2a1162f4-d5ee-4cc2-8627-f5d4db3918a2"
      },
      "execution_count": 491,
      "outputs": [
        {
          "output_type": "stream",
          "name": "stdout",
          "text": [
            "region     int64\n",
            "tenure     int64\n",
            "age        int64\n",
            "income     int64\n",
            "marital    int64\n",
            "address    int64\n",
            "ed         int64\n",
            "employ     int64\n",
            "retire     int64\n",
            "gender     int64\n",
            "reside     int64\n",
            "custcat    int64\n",
            "dtype: object\n",
            "   region  tenure  age  income  marital  address  ed  employ  retire  gender  \\\n",
            "0       2      13   44      64        1        9   4       5       0       0   \n",
            "1       3      11   33     136        1        7   5       5       0       0   \n",
            "2       3      68   52     116        1       24   1      29       0       1   \n",
            "3       2      33   33      33        0       12   2       0       0       1   \n",
            "4       2      23   30      30        1        9   1       2       0       0   \n",
            "\n",
            "   reside  custcat  \n",
            "0       2        1  \n",
            "1       6        3  \n",
            "2       2        2  \n",
            "3       1        1  \n",
            "4       4        2  \n",
            "\n",
            "Missing Values in Each Column:\n",
            "region     0\n",
            "tenure     0\n",
            "age        0\n",
            "income     0\n",
            "marital    0\n",
            "address    0\n",
            "ed         0\n",
            "employ     0\n",
            "retire     0\n",
            "gender     0\n",
            "reside     0\n",
            "custcat    0\n",
            "dtype: int64\n",
            "\n",
            "Number of Duplicate Rows: 0\n",
            "\n",
            "Number of Duplicate Rows: 0\n"
          ]
        }
      ]
    },
    {
      "cell_type": "markdown",
      "source": [
        "#Exploring the Data through Visualization\n"
      ],
      "metadata": {
        "id": "51Y1gXc6K6zR"
      }
    },
    {
      "cell_type": "code",
      "source": [
        "# Visualizing the distribution of PlacementStatus\n",
        "plt.figure(figsize=(8, 5))\n",
        "sns.countplot(data=df, x=\"custcat\", palette=\"Set1\")\n",
        "plt.title(\"Customer category Distribution\")\n",
        "plt.xlabel(\"Customer Category\")\n",
        "plt.ylabel(\"Count of Customers\")\n",
        "plt.show()\n"
      ],
      "metadata": {
        "id": "CgbyoORjI6px",
        "colab": {
          "base_uri": "https://localhost:8080/",
          "height": 574
        },
        "outputId": "4a6a0f16-ccf5-4b51-83fd-f7e50bd606db"
      },
      "execution_count": 492,
      "outputs": [
        {
          "output_type": "stream",
          "name": "stderr",
          "text": [
            "<ipython-input-492-25080ee20d45>:3: FutureWarning: \n",
            "\n",
            "Passing `palette` without assigning `hue` is deprecated and will be removed in v0.14.0. Assign the `x` variable to `hue` and set `legend=False` for the same effect.\n",
            "\n",
            "  sns.countplot(data=df, x=\"custcat\", palette=\"Set1\")\n"
          ]
        },
        {
          "output_type": "display_data",
          "data": {
            "text/plain": [
              "<Figure size 800x500 with 1 Axes>"
            ],
            "image/png": "[encoded data removed]"
          },
          "metadata": {}
        }
      ]
    },
    {
      "cell_type": "markdown",
      "source": [
        "### Category of income"
      ],
      "metadata": {
        "id": "Yi2by9Yqdd6x"
      }
    },
    {
      "cell_type": "code",
      "source": [
        "plt.figure(figsize=(45, 15))\n",
        "sns.boxplot(x='income', y='custcat', data=df)\n",
        "plt.xticks(rotation=90)  # Rotate x-axis labels\n",
        "plt.xlabel(\"Income\")\n",
        "plt.ylabel(\"Customer Category\")\n",
        "plt.title(\"Customer Category by Income\")\n",
        "plt.show()\n",
        "\n"
      ],
      "metadata": {
        "colab": {
          "base_uri": "https://localhost:8080/",
          "height": 654
        },
        "id": "PMS18i4Kdi-4",
        "outputId": "516d9ddf-5e6d-4cc6-b347-312340556d2e"
      },
      "execution_count": 493,
      "outputs": [
        {
          "output_type": "display_data",
          "data": {
            "text/plain": [
              "<Figure size 4500x1500 with 1 Axes>"
            ],
            "image/png": "[encoded data removed]"
          },
          "metadata": {}
        }
      ]
    },
    {
      "cell_type": "markdown",
      "source": [
        "### Custcat vs frequency\n"
      ],
      "metadata": {
        "id": "Mv62_j26dmj2"
      }
    },
    {
      "cell_type": "code",
      "source": [
        "plt.figure(figsize=(10, 4))\n",
        "sns.histplot(df['custcat'], bins=20, kde=True, color=\"blue\")\n",
        "plt.xlabel(\"custcat\")\n",
        "plt.ylabel(\"Frequency\")\n",
        "plt.title(\"customer category vs frequency\")\n",
        "plt.show()\n",
        "\n"
      ],
      "metadata": {
        "colab": {
          "base_uri": "https://localhost:8080/",
          "height": 410
        },
        "id": "gaV1nsyQdsn6",
        "outputId": "a60ba60e-947c-4a58-f61a-254f93260265"
      },
      "execution_count": 494,
      "outputs": [
        {
          "output_type": "display_data",
          "data": {
            "text/plain": [
              "<Figure size 1000x400 with 1 Axes>"
            ],
            "image/png": "[encoded data removed]"
          },
          "metadata": {}
        }
      ]
    },
    {
      "cell_type": "markdown",
      "source": [
        "###Build a model from scratch"
      ],
      "metadata": {
        "id": "fuzk7WcHMSoj"
      }
    },
    {
      "cell_type": "code",
      "source": [
        "from sklearn.model_selection import train_test_split\n",
        "from sklearn.preprocessing import StandardScaler\n",
        "from sklearn.metrics import classification_report, accuracy_score\n",
        "\n",
        "X = df.drop(columns=[\"custcat\"])\n",
        "Y = df[\"custcat\"]\n",
        "\n",
        "if X.shape[0] == Y.shape[0]:\n",
        "  print(\"Continue Further\")\n",
        "else:\n",
        "  print(\"X and Y are not created correctly\")"
      ],
      "metadata": {
        "colab": {
          "base_uri": "https://localhost:8080/"
        },
        "id": "3JKvBH6-LNra",
        "outputId": "32136c82-9701-4143-f9be-8a15b51f66ab"
      },
      "execution_count": 495,
      "outputs": [
        {
          "output_type": "stream",
          "name": "stdout",
          "text": [
            "Continue Further\n"
          ]
        }
      ]
    },
    {
      "cell_type": "code",
      "source": [
        "\n",
        "x_train, x_test, y_train, y_test = train_test_split(X, Y, test_size=0.3)\n",
        "# x_train = np.array(x_train, dtype=float)\n",
        "# x_test = np.array(x_test, dtype=float)\n",
        "# y_train = np.array(y_train, dtype=float)\n",
        "# y_test = np.array(y_test, dtype=float)\n",
        "print(y_test)\n",
        "print(\"Shape of X_train:\", x_train.shape)\n",
        "print(\"Shape of X_test:\", x_test.shape)\n",
        "print(\"Shape of y_train:\", y_train.shape)\n",
        "print(\"Shape of y_test:\", y_test.shape)\n",
        "if x_train.shape[0] == y_train.shape[0]:\n",
        "  print(\"Continue Further\")\n",
        "else:\n",
        "  print(\"x_train and y_train are not created correctly\")"
      ],
      "metadata": {
        "colab": {
          "base_uri": "https://localhost:8080/"
        },
        "id": "oWTMA0U0Mg7h",
        "outputId": "45116125-1e5d-49b5-a2c4-8a677c13182b"
      },
      "execution_count": 496,
      "outputs": [
        {
          "output_type": "stream",
          "name": "stdout",
          "text": [
            "528    3\n",
            "396    2\n",
            "512    0\n",
            "87     3\n",
            "468    0\n",
            "      ..\n",
            "657    3\n",
            "316    2\n",
            "259    3\n",
            "474    3\n",
            "23     1\n",
            "Name: custcat, Length: 300, dtype: int64\n",
            "Shape of X_train: (700, 11)\n",
            "Shape of X_test: (300, 11)\n",
            "Shape of y_train: (700,)\n",
            "Shape of y_test: (300,)\n",
            "Continue Further\n"
          ]
        }
      ]
    },
    {
      "cell_type": "code",
      "source": [
        "\n",
        "def logistic_function(x):\n",
        "  \"\"\"\n",
        "  Computes the logistic function applied to any value of x.\n",
        "  Arguments:\n",
        "    x: scalar or numpy array of any size.\n",
        "  Returns:\n",
        "    y: logistic function applied to x.\n",
        "  \"\"\"\n",
        "  import numpy as np\n",
        "\n",
        "  y = 1 / (1 + np.exp(-x))\n",
        "  return y"
      ],
      "metadata": {
        "id": "1_QCAg6QMqPY"
      },
      "execution_count": 497,
      "outputs": []
    },
    {
      "cell_type": "code",
      "source": [
        "def log_loss(y_true, y_pred):\n",
        "  \"\"\"\n",
        "  Computes log loss for true target value y ={0 or 1} and predicted target value y' inbetween {0-1}.\n",
        "  Arguments:\n",
        "    y_true (scalar): true target value {0 or 1}.\n",
        "    y_pred (scalar): predicted taget value {0-1}.\n",
        "  Returns:\n",
        "    loss (float): loss/error value\n",
        "  \"\"\"\n",
        "  import numpy as np\n",
        "  loss = -y_true * np.log(y_pred) - (1 - y_true) * np.log(1 - y_pred)\n",
        "  return loss"
      ],
      "metadata": {
        "id": "H-Qxzb8dM2WD"
      },
      "execution_count": 498,
      "outputs": []
    },
    {
      "cell_type": "code",
      "source": [
        "def cost_function(y_true, y_pred):\n",
        "    \"\"\"\n",
        "    Computes log loss for inputs true value (0 or 1) and predicted value (between 0 and 1)\n",
        "    Args:\n",
        "      y_true    (array_like, shape (m,)): array of true values (0 or 1)\n",
        "      y_pred (array_like, shape (m,)): array of predicted values (probability of y_pred being 1)\n",
        "    Returns:\n",
        "      cost (float): nonnegative cost corresponding to y_true and y_pred\n",
        "    \"\"\"\n",
        "    assert len(y_true) == len(y_pred), \"Length of true values and length of predicted values do not match\"\n",
        "    n = len(y_true)\n",
        "    loss_vec = sum(log_loss(y_true, y_pred))\n",
        "    cost = loss_vec/n\n",
        "    return cost"
      ],
      "metadata": {
        "id": "b1pByEy-M4nv"
      },
      "execution_count": 499,
      "outputs": []
    },
    {
      "cell_type": "code",
      "source": [
        "def costfunction_logreg(X, y, w, b):\n",
        "    \"\"\"\n",
        "    Computes the cost function, given data and model parameters\n",
        "    Args:\n",
        "      X (ndarray, shape (m,n))  : data on features, m observations with n features\n",
        "      y (array_like, shape (m,)): array of true values of target (0 or 1)\n",
        "      w (array_like, shape (n,)): weight parameters of the model\n",
        "      b (float)                 : bias parameter of the model\n",
        "    Returns:\n",
        "      cost (float): nonnegative cost corresponding to y and y_dash\n",
        "    \"\"\"\n",
        "    m, n = X.shape\n",
        "    assert len(y) == m, \"Number of feature observations and number of target observations do not match\"\n",
        "    assert len(w) == n, \"Number of features and number of weight parameters do not match\"\n",
        "    z = X.dot(w) + b\n",
        "    y_pred = 1/(1+np.exp(-z))\n",
        "    cost = cost_function(y, y_pred)\n",
        "    return cost"
      ],
      "metadata": {
        "id": "3bb8z9NmM6zM"
      },
      "execution_count": 500,
      "outputs": []
    },
    {
      "cell_type": "code",
      "source": [
        "# Function to compute gradients of the cost function with respect to model parameters - using vectorization\n",
        "def compute_gradient(X, y, w, b):\n",
        "    \"\"\"\n",
        "    Computes gradients of the cost function with respect to model parameters\n",
        "    Args:\n",
        "      X (ndarray, shape (m,n))  : data on features, m observations with n features\n",
        "      y (array_like, shape (m,)): array of true values of target (0 or 1)\n",
        "      w (array_like, shape (n,)): weight parameters of the model\n",
        "      b (float)                 : bias parameter of the model\n",
        "    Returns:\n",
        "      grad_w (array_like, shape (n,)): gradients of the cost function with respect to the weight parameters\n",
        "      grad_b (float)                 : gradient of the cost function with respect to the bias parameter\n",
        "    \"\"\"\n",
        "    m, n = X.shape\n",
        "    assert len(y) == m, \"Number of feature observations and number of target observations do not match\"\n",
        "    assert len(w) == n, \"Number of features and number of weight parameters do not match\"\n",
        "    y_pred = logistic_function(np.dot(X, w) + b)\n",
        "    grad_w = (1/m)* X.T.dot(y_pred - y)\n",
        "    grad_b = (1/m)* np.sum(y_pred - y)\n",
        "    return grad_w, grad_b"
      ],
      "metadata": {
        "id": "qoCcXjENM9E-"
      },
      "execution_count": 501,
      "outputs": []
    },
    {
      "cell_type": "code",
      "source": [
        "# Gradient descent algorithm for logistic regression\n",
        "def gradient_descent(X, y, w, b, alpha, n_iter, show_cost = True, show_params = False):\n",
        "    \"\"\"\n",
        "    Implements batch gradient descent algorithm to learn and update model parameters\n",
        "    with prespecified number of interations and learning rate\n",
        "    Args:\n",
        "      X (ndarray, shape (m,n))  : data on features, m observations with n features\n",
        "      y (array_like, shape (m,)): true values of target (0 or 1)\n",
        "      w (array_like, shape (n,)): initial value of weight parameters\n",
        "      b (scalar)                : initial value of bias parameter\n",
        "      cost_func                 : function to compute cost\n",
        "      grad_func                 : function to compute gradients of cost with respect to model parameters\n",
        "      alpha (float)             : learning rate\n",
        "      n_iter (int)              : number of iterations\n",
        "    Returns:\n",
        "      w (array_like, shape (n,)): updated values of weight parameters\n",
        "      b (scalar)                : updated value of bias parameter\n",
        "    \"\"\"\n",
        "    from tqdm.contrib import itertools\n",
        "    import math\n",
        "    import tqdm\n",
        "    from time import sleep\n",
        "    m, n = X.shape\n",
        "    assert len(y) == m, \"Number of feature observations and number of target observations do not match\"\n",
        "    assert len(w) == n, \"Number of features and number of weight parameters do not match\"\n",
        "    cost_history, params_history = [], []\n",
        "    for i, j in itertools.product(range(n_iter), range(1)):\n",
        "        grad_w, grad_b = compute_gradient(X, y, w, b)\n",
        "        w += -alpha * grad_w\n",
        "        b += -alpha * grad_b\n",
        "        cost =  costfunction_logreg(X, y, w, b)\n",
        "        cost_history.append(cost)\n",
        "        params_history.append([w, b])\n",
        "\n",
        "\n",
        "    return w, b, cost_history, params_history\n",
        "\n"
      ],
      "metadata": {
        "id": "bxNK8fcBNCug"
      },
      "execution_count": 502,
      "outputs": []
    },
    {
      "cell_type": "markdown",
      "source": [
        "###Scaling the features"
      ],
      "metadata": {
        "id": "mMVNNfY_NHnO"
      }
    },
    {
      "cell_type": "code",
      "source": [
        "from sklearn.preprocessing import StandardScaler\n",
        "\n",
        "# Scale the features\n",
        "scaler = StandardScaler()\n",
        "x_train_scaled = scaler.fit_transform(x_train)\n",
        "x_test_scaled = scaler.transform(x_test)"
      ],
      "metadata": {
        "id": "7xkJ5vrzNF_-"
      },
      "execution_count": 503,
      "outputs": []
    },
    {
      "cell_type": "code",
      "source": [
        "# Initialize parameters\n",
        "n_features = x_train_scaled.shape[1]\n",
        "w = np.zeros(n_features)  # Initialize weights as zeros\n",
        "b = 0  # Initialize bias as 0"
      ],
      "metadata": {
        "id": "GPbu5wr9NJSc"
      },
      "execution_count": 504,
      "outputs": []
    },
    {
      "cell_type": "code",
      "source": [
        "# Set hyperparameters\n",
        "learning_rate = 0.01\n",
        "num_iterations = 1000\n",
        "\n",
        "# Run gradient descent\n",
        "w_optimized, b_optimized, cost_history, params_history = gradient_descent(\n",
        "    x_train_scaled, y_train, w, b, learning_rate, num_iterations\n",
        ")\n",
        "\n",
        "# Print final parameters\n",
        "print(\"Optimized weights (w):\", w_optimized)\n",
        "print(\"Optimized bias (b):\", b_optimized)"
      ],
      "metadata": {
        "colab": {
          "base_uri": "https://localhost:8080/",
          "height": 101,
          "referenced_widgets": [
            "de1ed62b312540078ef777f78dd456fb",
            "cdcbc6e4ec3d47f9b745810a2dead640",
            "12f0265594d04e1bb6fc1b73ddd50f6d",
            "d2a48ae0404b4919b2c6a5f17332f4da",
            "f9f7ede6a6ae433e9f82a027e537c597",
            "6d8b148355c8467eb0430aaa9acdc3e3",
            "e2a27f0ea28d4bd18f6e1d6797379771",
            "2d8e75f945c546ceaa8c83a3fdfbe7f6",
            "9e1e63b495ce411a8a1456026b8fb84e",
            "b4e003b7a141480dac8a9b4910d18fe7",
            "951782b059a54a77a94539f1328dc534"
          ]
        },
        "id": "Z-IMUGI-NXUW",
        "outputId": "425adcdf-368f-45f3-9de0-61da6eaa8fc2"
      },
      "execution_count": 505,
      "outputs": [
        {
          "output_type": "display_data",
          "data": {
            "text/plain": [
              "  0%|          | 0/1000 [00:00<?, ?it/s]"
            ],
            "application/vnd.jupyter.widget-view+json": {
              "version_major": 2,
              "version_minor": 0,
              "model_id": "de1ed62b312540078ef777f78dd456fb"
            }
          },
          "metadata": {}
        },
        {
          "output_type": "stream",
          "name": "stdout",
          "text": [
            "Optimized weights (w): [ 0.08471486 -0.40949682 -0.09490166  0.69616931  0.11770811  0.02919211\n",
            "  0.79852209  0.37737643  0.21243831 -0.45594593  0.69498273]\n",
            "Optimized bias (b): 6.483084062865268\n"
          ]
        }
      ]
    },
    {
      "cell_type": "code",
      "source": [
        "# Make predictions on the test set\n",
        "y_pred_prob = logistic_function(np.dot(x_test_scaled, w_optimized) + b_optimized)\n",
        "y_pred = (y_pred_prob >= 0.5).astype(int)  # Convert probabilities to binary predictions\n",
        "# Evaluate the model\n",
        "from sklearn.metrics import accuracy_score, classification_report\n",
        "from sklearn.metrics import confusion_matrix\n",
        "accuracy = accuracy_score(y_test, y_pred)\n",
        "print(\"Accuracy:\", accuracy)\n",
        "print(\"\\nClassification Report:\")\n",
        "print(classification_report(y_test, y_pred))\n",
        "print(f\"Confusion Matrix:\\n{confusion_matrix(y_test, y_pred)}\")"
      ],
      "metadata": {
        "colab": {
          "base_uri": "https://localhost:8080/"
        },
        "id": "ucEeUfYnNcqP",
        "outputId": "309e0054-a740-4536-cc01-0e9bb4ee29bd"
      },
      "execution_count": 506,
      "outputs": [
        {
          "output_type": "stream",
          "name": "stdout",
          "text": [
            "Accuracy: 0.29333333333333333\n",
            "\n",
            "Classification Report:\n",
            "              precision    recall  f1-score   support\n",
            "\n",
            "           0       0.00      0.00      0.00        66\n",
            "           1       0.29      1.00      0.45        88\n",
            "           2       0.00      0.00      0.00        82\n",
            "           3       0.00      0.00      0.00        64\n",
            "\n",
            "    accuracy                           0.29       300\n",
            "   macro avg       0.07      0.25      0.11       300\n",
            "weighted avg       0.09      0.29      0.13       300\n",
            "\n",
            "Confusion Matrix:\n",
            "[[ 0 66  0  0]\n",
            " [ 0 88  0  0]\n",
            " [ 0 82  0  0]\n",
            " [ 0 64  0  0]]\n"
          ]
        },
        {
          "output_type": "stream",
          "name": "stderr",
          "text": [
            "/usr/local/lib/python3.11/dist-packages/sklearn/metrics/_classification.py:1565: UndefinedMetricWarning: Precision is ill-defined and being set to 0.0 in labels with no predicted samples. Use `zero_division` parameter to control this behavior.\n",
            "  _warn_prf(average, modifier, f\"{metric.capitalize()} is\", len(result))\n",
            "/usr/local/lib/python3.11/dist-packages/sklearn/metrics/_classification.py:1565: UndefinedMetricWarning: Precision is ill-defined and being set to 0.0 in labels with no predicted samples. Use `zero_division` parameter to control this behavior.\n",
            "  _warn_prf(average, modifier, f\"{metric.capitalize()} is\", len(result))\n",
            "/usr/local/lib/python3.11/dist-packages/sklearn/metrics/_classification.py:1565: UndefinedMetricWarning: Precision is ill-defined and being set to 0.0 in labels with no predicted samples. Use `zero_division` parameter to control this behavior.\n",
            "  _warn_prf(average, modifier, f\"{metric.capitalize()} is\", len(result))\n"
          ]
        }
      ]
    },
    {
      "cell_type": "code",
      "source": [
        "cm = confusion_matrix(y_test, y_pred)\n",
        "\n",
        "fig, ax = plt.subplots(figsize=(8, 8))\n",
        "ax.imshow(cm)\n",
        "ax.grid(False)\n",
        "ax.xaxis.set(ticks=(0, 1), ticklabels=('Predicted 0s', 'Predicted 1s'))\n",
        "ax.yaxis.set(ticks=(0, 1), ticklabels=('Actual 0s', 'Actual 1s'))\n",
        "ax.set_ylim(1.5, -0.5)\n",
        "for i in range(2):\n",
        "    for j in range(2):\n",
        "        ax.text(j, i, cm[i, j], ha='center', va='center', color='white')\n",
        "plt.show()"
      ],
      "metadata": {
        "colab": {
          "base_uri": "https://localhost:8080/",
          "height": 370
        },
        "id": "pArUgLPsN7Fm",
        "outputId": "9444cf54-4403-4555-bcdc-b241b44b771e"
      },
      "execution_count": 507,
      "outputs": [
        {
          "output_type": "display_data",
          "data": {
            "text/plain": [
              "<Figure size 800x800 with 1 Axes>"
            ],
            "image/png": "[encoded data removed]"
          },
          "metadata": {}
        }
      ]
    },
    {
      "cell_type": "markdown",
      "source": [
        "##Build a primary model"
      ],
      "metadata": {
        "id": "BntIh8GiN8-l"
      }
    },
    {
      "cell_type": "code",
      "source": [
        "from sklearn.tree import DecisionTreeClassifier\n",
        "from sklearn.metrics import accuracy_score, confusion_matrix, classification_report\n",
        "from sklearn.model_selection import GridSearchCV\n",
        "from sklearn.feature_selection import RFE\n",
        "\n",
        "# Initialize Decision Tree model\n",
        "tree_model = DecisionTreeClassifier(random_state=42)\n",
        "tree_model.fit(x_train_scaled, y_train)\n",
        "\n",
        "# Make predictions\n",
        "y_pred_tree = tree_model.predict(x_test_scaled)\n",
        "\n",
        "# Model evaluation\n",
        "print(\"Decision Tree Evaluation:\")\n",
        "print(f\"Accuracy: {accuracy_score(y_test, y_pred_tree)}\")\n",
        "print(f\"Confusion Matrix:\\n{confusion_matrix(y_test, y_pred_tree)}\")\n",
        "print(f\"Classification Report:\\n{classification_report(y_test, y_pred_tree)}\")\n",
        "from sklearn.metrics import mean_squared_error, r2_score, accuracy_score, confusion_matrix, classification_report"
      ],
      "metadata": {
        "colab": {
          "base_uri": "https://localhost:8080/"
        },
        "id": "L2yZ5kDJOA-n",
        "outputId": "8c8a2d8d-3911-447f-c6f9-6205aaa67665"
      },
      "execution_count": 508,
      "outputs": [
        {
          "output_type": "stream",
          "name": "stdout",
          "text": [
            "Decision Tree Evaluation:\n",
            "Accuracy: 0.31333333333333335\n",
            "Confusion Matrix:\n",
            "[[20 15 18 13]\n",
            " [10 33 23 22]\n",
            " [19 23 28 12]\n",
            " [23 15 13 13]]\n",
            "Classification Report:\n",
            "              precision    recall  f1-score   support\n",
            "\n",
            "           0       0.28      0.30      0.29        66\n",
            "           1       0.38      0.38      0.38        88\n",
            "           2       0.34      0.34      0.34        82\n",
            "           3       0.22      0.20      0.21        64\n",
            "\n",
            "    accuracy                           0.31       300\n",
            "   macro avg       0.30      0.31      0.31       300\n",
            "weighted avg       0.31      0.31      0.31       300\n",
            "\n"
          ]
        }
      ]
    },
    {
      "cell_type": "code",
      "source": [
        "from sklearn.ensemble import RandomForestClassifier\n",
        "from sklearn.metrics import f1_score\n",
        "\n",
        "rf_classifier = RandomForestClassifier(random_state=42)\n",
        "rf_classifier.fit(x_train_scaled, y_train)\n",
        "y_pred_rf = rf_classifier.predict(x_test_scaled)\n",
        "f1_rf = f1_score(y_test, y_pred_rf, average='weighted')\n",
        "print(f\"Random Forest F1 Score: {f1_rf:.4f}\")\n",
        "print(f\"Confusion Matrix:\\n{confusion_matrix(y_test, y_pred_rf)}\")\n",
        "print(f\"Accuracy: {accuracy_score(y_test, y_pred_rf)}\")\n",
        "print(f\"Classification Report:\\n{classification_report(y_test, y_pred_rf)}\")"
      ],
      "metadata": {
        "id": "DCs4dGIrOCeW",
        "colab": {
          "base_uri": "https://localhost:8080/"
        },
        "outputId": "9c593da5-88b9-4717-86a2-adbfa1716a6b"
      },
      "execution_count": 509,
      "outputs": [
        {
          "output_type": "stream",
          "name": "stdout",
          "text": [
            "Random Forest F1 Score: 0.3465\n",
            "Confusion Matrix:\n",
            "[[15 10 24 17]\n",
            " [ 7 44 17 20]\n",
            " [ 8 31 27 16]\n",
            " [19 12 14 19]]\n",
            "Accuracy: 0.35\n",
            "Classification Report:\n",
            "              precision    recall  f1-score   support\n",
            "\n",
            "           0       0.31      0.23      0.26        66\n",
            "           1       0.45      0.50      0.48        88\n",
            "           2       0.33      0.33      0.33        82\n",
            "           3       0.26      0.30      0.28        64\n",
            "\n",
            "    accuracy                           0.35       300\n",
            "   macro avg       0.34      0.34      0.34       300\n",
            "weighted avg       0.35      0.35      0.35       300\n",
            "\n"
          ]
        }
      ]
    },
    {
      "cell_type": "code",
      "source": [
        "from sklearn.model_selection import GridSearchCV\n",
        "\n",
        "tree_params = {\n",
        "    \"criterion\": [\"gini\", \"entropy\"],\n",
        "    \"max_depth\": [3, 5, 10, None],\n",
        "    \"min_samples_split\": [2, 5, 10],\n",
        "    \"min_samples_leaf\": [1, 2, 4]\n",
        "}\n",
        "grid_tree = GridSearchCV(DecisionTreeClassifier(random_state=42), tree_params, cv=5, scoring=\"accuracy\")\n",
        "grid_tree.fit(x_train_scaled, y_train)\n",
        "\n",
        "# Best hyperparameters for Decision Tree\n",
        "print(\"\\nBest Parameters for Decision Tree:\")\n",
        "print(grid_tree.best_params_)\n",
        "\n",
        "# Hyperparameter tuning for Random Forest\n",
        "rf_params = {\n",
        "    \"n_estimators\": [50, 100, 150],\n",
        "    \"max_depth\": [None, 10, 20],\n",
        "    \"min_samples_split\": [2, 5, 10]\n",
        "}\n",
        "grid_rf = GridSearchCV(RandomForestClassifier(random_state=42), rf_params, cv=5, scoring=\"accuracy\")\n",
        "grid_rf.fit(x_train_scaled, y_train)\n",
        "\n",
        "# Best hyperparameters for Random Forest\n",
        "print(\"\\nBest Parameters for Random Forest:\")\n",
        "print(grid_rf.best_params_)\n"
      ],
      "metadata": {
        "id": "ZpxSck--OIL4",
        "colab": {
          "base_uri": "https://localhost:8080/"
        },
        "outputId": "961f068e-4229-4122-d45c-695136ed0ebc"
      },
      "execution_count": 510,
      "outputs": [
        {
          "output_type": "stream",
          "name": "stdout",
          "text": [
            "\n",
            "Best Parameters for Decision Tree:\n",
            "{'criterion': 'entropy', 'max_depth': 3, 'min_samples_leaf': 1, 'min_samples_split': 2}\n",
            "\n",
            "Best Parameters for Random Forest:\n",
            "{'max_depth': None, 'min_samples_split': 10, 'n_estimators': 100}\n"
          ]
        }
      ]
    },
    {
      "cell_type": "code",
      "source": [
        "from sklearn.feature_selection import RFE\n",
        "\n",
        "tree_clf = DecisionTreeClassifier(random_state=42)\n",
        "rfe = RFE(estimator=tree_clf, n_features_to_select=6)\n",
        "rfe.fit(x_train_scaled, y_train)\n",
        "\n",
        "selected_features_tree = X.columns[rfe.support_]\n",
        "print(\"Selected Features for Decision Tree:\", selected_features_tree)\n",
        "print(f\"Selected Features Mask: {rfe.support_}\")\n",
        "print(f\"Feature Ranking: {rfe.ranking_}\")"
      ],
      "metadata": {
        "colab": {
          "base_uri": "https://localhost:8080/"
        },
        "id": "Ko1vZ8uPGWTn",
        "outputId": "9998598b-f713-4920-c733-5b7f1552dfe8"
      },
      "execution_count": 511,
      "outputs": [
        {
          "output_type": "stream",
          "name": "stdout",
          "text": [
            "Selected Features for Decision Tree: Index(['tenure', 'age', 'income', 'address', 'ed', 'employ'], dtype='object')\n",
            "Selected Features Mask: [False  True  True  True False  True  True  True False False False]\n",
            "Feature Ranking: [2 1 1 1 5 1 1 1 6 4 3]\n"
          ]
        }
      ]
    },
    {
      "cell_type": "code",
      "source": [
        "from sklearn.ensemble import RandomForestClassifier\n",
        "\n",
        "# Initialize RandomForestClassifier\n",
        "rf = RandomForestClassifier(n_estimators=100, random_state=42)\n",
        "rf.fit(x_train_scaled, y_train)  # Train the model\n",
        "\n",
        "# Get feature importance scores\n",
        "feature_importances = pd.Series(rf.feature_importances_, index=X.columns)\n",
        "\n",
        "# Sort features by importance\n",
        "feature_importances = feature_importances.sort_values(ascending=False)\n",
        "print(\"Feature Importances:\\n\", feature_importances)\n",
        "\n",
        "#Selecting top 6 features\n",
        "top_features = feature_importances[:6].index\n",
        "print(\"Selected Features:\", top_features)\n",
        "\n"
      ],
      "metadata": {
        "colab": {
          "base_uri": "https://localhost:8080/"
        },
        "id": "uWaglCu4NFJd",
        "outputId": "f965ed6e-4b85-48d4-b189-6c806787b948"
      },
      "execution_count": 512,
      "outputs": [
        {
          "output_type": "stream",
          "name": "stdout",
          "text": [
            "Feature Importances:\n",
            " tenure     0.165590\n",
            "income     0.156403\n",
            "age        0.138568\n",
            "employ     0.137701\n",
            "address    0.130936\n",
            "ed         0.093199\n",
            "reside     0.064831\n",
            "region     0.053063\n",
            "gender     0.029640\n",
            "marital    0.025060\n",
            "retire     0.005009\n",
            "dtype: float64\n",
            "Selected Features: Index(['tenure', 'income', 'age', 'employ', 'address', 'ed'], dtype='object')\n"
          ]
        }
      ]
    },
    {
      "cell_type": "code",
      "source": [
        "from sklearn.ensemble import RandomForestClassifier\n",
        "from sklearn.metrics import accuracy_score, confusion_matrix, classification_report, f1_score\n",
        "\n",
        "x_train_scaled_df = pd.DataFrame(x_train_scaled, columns=X.columns)\n",
        "x_test_scaled_df = pd.DataFrame(x_test_scaled, columns=X.columns)\n",
        "\n",
        "# Select the important features from Task 5\n",
        "\n",
        "selected_features_rf = ['tenure', 'income', 'age', 'address', 'employ', 'ed']\n",
        "\n",
        "# Subset the dataset with selected features\n",
        "x_train_rf = x_train_scaled_df[selected_features_rf]\n",
        "x_test_rf = x_test_scaled_df[selected_features_rf]\n",
        "\n",
        "# Rebuild Random Forest model with optimal hyperparameters\n",
        "rf = RandomForestClassifier(n_estimators=50, max_depth=10, min_samples_split=5, random_state=42)\n",
        "rf.fit(x_train_rf, y_train)\n",
        "y_pred_rf = rf.predict(x_test_rf)\n",
        "\n",
        "# Evaluate Random Forest\n",
        "f1_rf = f1_score(y_test, y_pred_rf, average='weighted')\n",
        "print(\"\\nRandom Forest Evaluation:\")\n",
        "print(f\"Random Forest F1 Score: {f1_rf:.4f}\")\n",
        "print(f\"Confusion Matrix:\\n{confusion_matrix(y_test, y_pred_rf)}\")\n",
        "print(f\"Accuracy: {accuracy_score(y_test, y_pred_rf)}\")\n",
        "print(f\"Classification Report:\\n{classification_report(y_test, y_pred_rf)}\")\n"
      ],
      "metadata": {
        "colab": {
          "base_uri": "https://localhost:8080/"
        },
        "id": "w3JZ8XTXNHMh",
        "outputId": "58768727-0c07-46c3-a103-57c349744807"
      },
      "execution_count": 513,
      "outputs": [
        {
          "output_type": "stream",
          "name": "stdout",
          "text": [
            "\n",
            "Random Forest Evaluation:\n",
            "Random Forest F1 Score: 0.3987\n",
            "Confusion Matrix:\n",
            "[[25 10 17 14]\n",
            " [ 8 44 19 17]\n",
            " [12 31 26 13]\n",
            " [15  9 15 25]]\n",
            "Accuracy: 0.4\n",
            "Classification Report:\n",
            "              precision    recall  f1-score   support\n",
            "\n",
            "           0       0.42      0.38      0.40        66\n",
            "           1       0.47      0.50      0.48        88\n",
            "           2       0.34      0.32      0.33        82\n",
            "           3       0.36      0.39      0.38        64\n",
            "\n",
            "    accuracy                           0.40       300\n",
            "   macro avg       0.40      0.40      0.40       300\n",
            "weighted avg       0.40      0.40      0.40       300\n",
            "\n"
          ]
        }
      ]
    }
  ]
}